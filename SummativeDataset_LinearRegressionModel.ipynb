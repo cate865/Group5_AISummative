{
  "nbformat": 4,
  "nbformat_minor": 0,
  "metadata": {
    "colab": {
      "name": "SummativeDataset_LinearRegressionModel.ipynb",
      "provenance": [],
      "collapsed_sections": []
    },
    "kernelspec": {
      "name": "python3",
      "display_name": "Python 3"
    },
    "language_info": {
      "name": "python"
    }
  },
  "cells": [
    {
      "cell_type": "code",
      "execution_count": null,
      "metadata": {
        "id": "Hmtxn4_a9xOf",
        "colab": {
          "base_uri": "https://localhost:8080/"
        },
        "outputId": "19491a22-e23c-4673-ffb0-59a994817888"
      },
      "outputs": [
        {
          "output_type": "stream",
          "name": "stdout",
          "text": [
            "Index(['Age', 'Sex', 'SexNum', 'ChestPainType', 'RestingBP', 'Cholesterol',\n",
            "       'FastingBS', 'RestingECG', 'NormalRECG', 'STRECG', 'MaxHR',\n",
            "       'ExerciseAngina', 'Oldpeak', 'STSlope', 'HeartDisease'],\n",
            "      dtype='object')\n",
            "0      172\n",
            "1      156\n",
            "2       98\n",
            "3      108\n",
            "4      122\n",
            "      ... \n",
            "913    132\n",
            "914    141\n",
            "915    115\n",
            "916    174\n",
            "917    173\n",
            "Name: MaxHR, Length: 918, dtype: int64\n",
            "     Age  RestingBP  Cholesterol  SexNum  FastingBS  NormalRECG\n",
            "0     40        140          289       1          0           1\n",
            "1     49        160          180       0          0           1\n",
            "2     37        130          283       1          0           0\n",
            "3     48        138          214       0          0           1\n",
            "4     54        150          195       1          0           1\n",
            "..   ...        ...          ...     ...        ...         ...\n",
            "913   45        110          264       1          0           1\n",
            "914   68        144          193       1          1           1\n",
            "915   57        130          131       1          0           1\n",
            "916   57        130          236       0          0           0\n",
            "917   38        138          175       1          0           1\n",
            "\n",
            "[918 rows x 6 columns]\n",
            "[172. 156.  98. 108. 122. 170. 170. 142. 130. 120.]\n",
            "Original prices\n",
            "0    172\n",
            "1    156\n",
            "2     98\n",
            "3    108\n",
            "4    122\n",
            "Name: MaxHR, dtype: int64\n",
            "\n",
            "\n",
            "Predicted prices\n",
            "[172. 156.  98. 108. 122. 170. 170. 142. 130. 120.]\n"
          ]
        }
      ],
      "source": [
        "## add necessary imports\n",
        "## import library, upload .csv file\n",
        "\n",
        "import pandas as pd\n",
        "import io\n",
        "\n",
        "heart_data_main = '/content/AISummative_FinalHeartDiseaseDataset_27042022.csv'  ## saved on the files section of the worksheet\n",
        "heart_data = pd.read_csv(heart_data_main)\n",
        "\n",
        "## Step 1: Specifying the prediction target (the maximum heart rate)\n",
        "\n",
        "columns = heart_data.columns\n",
        "print(columns)\n",
        "\n",
        "\n",
        "y = heart_data.MaxHR\n",
        "print(y)\n",
        "\n",
        "## Step 2: Create X (the predict features aka the columns we're using to predict maximum heart rate, y)\n",
        "\n",
        "feature_names = [\"Age\", \"RestingBP\", \"Cholesterol\", \"SexNum\", \"FastingBS\", \"NormalRECG\"]   # NormalRECG is for the normal resting ECG, which can be logged\n",
        "# all other prediction features are features that can be pre-logged into the wearable\n",
        "\n",
        "\n",
        "X = heart_data[feature_names]  # the DataFrame with the specific columns we're going to use\n",
        "print(X)\n",
        "\n",
        "## Step 3: Specify and fit model\n",
        "from sklearn.tree import DecisionTreeRegressor\n",
        "\n",
        "heart_model = DecisionTreeRegressor(random_state=1)\n",
        "\n",
        "heart_model.fit(X, y)\n",
        "\n",
        "## Step 4: Make predictions\n",
        "\n",
        "predictions = heart_model.predict(X.head(10))\n",
        "print(predictions)\n",
        "\n",
        "## Step 5: Evaluate results\n",
        "\n",
        "print(\"Original prices\")\n",
        "print(y.head())\n",
        "print(\"\\n\")\n",
        "print(\"Predicted prices\")\n",
        "print(predictions)\n",
        "\n",
        "\n",
        "## Observation: the prices are exactly the same!"
      ]
    },
    {
      "cell_type": "code",
      "source": [
        "\n",
        "\n",
        "## Step 1: Split the data (into testing & training data)\n",
        "\n",
        "from sklearn.model_selection import train_test_split\n",
        "\n",
        "# splitting into training and validating data for both X and y\n",
        "train_X, val_X, train_y, val_y = train_test_split(X, y, random_state=1)"
      ],
      "metadata": {
        "id": "a0knba0X-r3H"
      },
      "execution_count": null,
      "outputs": []
    },
    {
      "cell_type": "code",
      "source": [
        "## Step 2: Specify and fit the model\n",
        "\n",
        "# specifying decision tree regressor model\n",
        "heart_model = DecisionTreeRegressor(random_state=1)\n",
        "\n",
        "# fitting the model with training data\n",
        "heart_model.fit(train_X, train_y)"
      ],
      "metadata": {
        "colab": {
          "base_uri": "https://localhost:8080/"
        },
        "id": "k-UN6-dS_Xux",
        "outputId": "a5f5f0f8-913b-44b4-e002-2beda2f006bc"
      },
      "execution_count": null,
      "outputs": [
        {
          "output_type": "execute_result",
          "data": {
            "text/plain": [
              "DecisionTreeRegressor(random_state=1)"
            ]
          },
          "metadata": {},
          "execution_count": 4
        }
      ]
    },
    {
      "cell_type": "code",
      "source": [
        "## Step 3: Make predictions with the validation data\n",
        "\n",
        "val_predictions = heart_model.predict(val_X)\n",
        "val_predictions_head = heart_model.predict(val_X.head(10))\n",
        "\n",
        "print(\"Validation predictions\")\n",
        "print(val_predictions_head)\n",
        "print(\"\\n\")\n",
        "\n",
        "print(\"Training data predictions\")\n",
        "print(predictions)\n",
        "print(\"\\n\")\n",
        "\n",
        "print(\"Validation Data (val_X)\")\n",
        "print(val_X.head(10))\n",
        "print(\"\\n\")\n",
        "\n",
        "print(\"Training Data (train_X)\")\n",
        "print(train_X.head(10))\n",
        "print(\"\\n\")\n",
        "\n",
        "\n",
        "# As we can see, the predictions are different from each other.\n",
        "\n",
        "# Validation predictions differ from training predictions because the data used for validation predictions is data that HAS NOT\n",
        "# been used to fit and train the model, so the predictions are more accurate and unbiased, because they will not be 100% the \n",
        "# same as the original data because they weren't used to fit the model"
      ],
      "metadata": {
        "colab": {
          "base_uri": "https://localhost:8080/"
        },
        "id": "HJt0DBXh_pIc",
        "outputId": "cd7a9c30-f047-4e91-9d28-c372ec460ee4"
      },
      "execution_count": null,
      "outputs": [
        {
          "output_type": "stream",
          "name": "stdout",
          "text": [
            "Validation predictions\n",
            "[160. 162. 125. 120. 154. 165. 154. 105. 142.  84.]\n",
            "\n",
            "\n",
            "Training data predictions\n",
            "[172. 156.  98. 108. 122. 170. 170. 142. 130. 120.]\n",
            "\n",
            "\n",
            "Validation Data (val_X)\n",
            "     Age  RestingBP  Cholesterol  SexNum  FastingBS  NormalRECG\n",
            "900   58        114          318       1          0           0\n",
            "570   56        128          223       1          0           0\n",
            "791   51        140          298       1          0           1\n",
            "189   53        180          285       1          0           0\n",
            "372   63        185            0       1          0           1\n",
            "191   50        170          209       1          0           0\n",
            "643   58        112          230       1          0           0\n",
            "474   62        131            0       1          0           1\n",
            "65    37        120          260       0          0           1\n",
            "890   64        170          227       1          0           0\n",
            "\n",
            "\n",
            "Training Data (train_X)\n",
            "     Age  RestingBP  Cholesterol  SexNum  FastingBS  NormalRECG\n",
            "41    54        130          294       0          0           0\n",
            "891   66        146          278       0          0           0\n",
            "265   54        160          305       1          0           1\n",
            "177   59        140          287       1          0           1\n",
            "241   54        200          198       1          0           1\n",
            "185   58        160          211       1          1           0\n",
            "368   57        140            0       1          0           1\n",
            "519   63         96          305       1          0           0\n",
            "623   60        140          293       1          0           0\n",
            "428   62        110            0       1          0           1\n",
            "\n",
            "\n"
          ]
        }
      ]
    },
    {
      "cell_type": "code",
      "source": [
        "## Step 4: Calculate the Mean Absolute Error in Validation Data\n",
        "\n",
        "from sklearn.metrics import mean_absolute_error\n",
        "\n",
        "# validation MAE\n",
        "val_mae = mean_absolute_error(val_y, val_predictions)\n",
        "print(\"Validation MAE: \")\n",
        "print(val_mae)\n",
        "print(\"\\n\")\n",
        "\n",
        "# Calculating Mean Absolute Percentage error\n",
        "from sklearn.metrics import mean_absolute_percentage_error\n",
        "\n",
        "print(\"MAE percentage error: \")\n",
        "print(mean_absolute_percentage_error(val_y, val_predictions))\n",
        "print(\"\\n\")"
      ],
      "metadata": {
        "colab": {
          "base_uri": "https://localhost:8080/"
        },
        "id": "SzWygfjVATz7",
        "outputId": "b6d60ce9-e39c-4fce-906c-d86820fd85c2"
      },
      "execution_count": null,
      "outputs": [
        {
          "output_type": "stream",
          "name": "stdout",
          "text": [
            "Validation MAE: \n",
            "26.621739130434783\n",
            "\n",
            "\n",
            "MAE percentage error: \n",
            "0.21299503271677955\n",
            "\n",
            "\n"
          ]
        }
      ]
    }
  ]
}