{
  "nbformat": 4,
  "nbformat_minor": 0,
  "metadata": {
    "colab": {
      "name": "SummativeDataset_LogisticRegressionModel.ipynb",
      "provenance": [],
      "collapsed_sections": []
    },
    "kernelspec": {
      "name": "python3",
      "display_name": "Python 3"
    },
    "language_info": {
      "name": "python"
    }
  },
  "cells": [
    {
      "cell_type": "code",
      "execution_count": null,
      "metadata": {
        "id": "1jdqk_Kz1k2W"
      },
      "outputs": [],
      "source": [
        "## import pandas library, upload .csv file\n",
        "\n",
        "import pandas as pd\n",
        "import numpy as np\n",
        "from sklearn.linear_model import LogisticRegression\n",
        "from sklearn.model_selection import train_test_split\n",
        "\n",
        "import io\n",
        "\n",
        "\n",
        "# heart_data = '/content/summative_heart_dataset_final.csv'  ## EF boolean\n",
        "heart_data_main = '/content/AISummative_FinalHeartDiseaseDataset_27042022.csv' ## CPK boolean\n",
        "heart_data = pd.read_csv(heart_data_main)"
      ]
    },
    {
      "cell_type": "code",
      "source": [
        "## Step 1: Specifying the prediction target (heart disease)\n",
        "\n",
        "columns = heart_data.columns\n",
        "print(\"Columns:\\n\")\n",
        "print(columns)\n",
        "\n",
        "print(\"\\n\")\n",
        "\n",
        "# y = home_data.HeartDisease\n",
        "y = heart_data.HeartDisease\n",
        "print(\"Prediction target: \\n\")\n",
        "print(y)"
      ],
      "metadata": {
        "colab": {
          "base_uri": "https://localhost:8080/"
        },
        "id": "ZI9gIWdoekqL",
        "outputId": "19d286b3-8697-4762-d280-bbe0342a6f2b"
      },
      "execution_count": null,
      "outputs": [
        {
          "output_type": "stream",
          "name": "stdout",
          "text": [
            "Columns:\n",
            "\n",
            "Index(['Age', 'Sex', 'SexNum', 'ChestPainType', 'RestingBP', 'Cholesterol',\n",
            "       'FastingBS', 'RestingECG', 'NormalRECG', 'STRECG', 'MaxHR',\n",
            "       'ExerciseAngina', 'Oldpeak', 'STSlope', 'HeartDisease'],\n",
            "      dtype='object')\n",
            "\n",
            "\n",
            "Prediction target: \n",
            "\n",
            "0      0\n",
            "1      1\n",
            "2      0\n",
            "3      1\n",
            "4      0\n",
            "      ..\n",
            "913    1\n",
            "914    1\n",
            "915    1\n",
            "916    1\n",
            "917    0\n",
            "Name: HeartDisease, Length: 918, dtype: int64\n"
          ]
        }
      ]
    },
    {
      "cell_type": "code",
      "source": [
        "## Step 2: Create X (the predict features aka the columns we're using to predict the price, y)\n",
        "\n",
        "# feature_names = [\"Age\", \"RestingBP\", \"Cholesterol\", \"MaxHR\", \"Sex_Num\", \"Normal\", \"ST\"]\n",
        "feature_names = [\"Age\", \"RestingBP\", \"Cholesterol\", \"MaxHR\", \"SexNum\"]\n",
        "\n",
        "\n",
        "X = heart_data[feature_names]  # the DataFrame with the specific columns we're going to use (the boolean )\n",
        "print(X)"
      ],
      "metadata": {
        "id": "wvXVu1DehE1m",
        "colab": {
          "base_uri": "https://localhost:8080/"
        },
        "outputId": "88c49788-63ab-456d-fecf-ff5764f01c42"
      },
      "execution_count": null,
      "outputs": [
        {
          "output_type": "stream",
          "name": "stdout",
          "text": [
            "     Age  RestingBP  Cholesterol  MaxHR  SexNum\n",
            "0     40        140          289    172       1\n",
            "1     49        160          180    156       0\n",
            "2     37        130          283     98       1\n",
            "3     48        138          214    108       0\n",
            "4     54        150          195    122       1\n",
            "..   ...        ...          ...    ...     ...\n",
            "913   45        110          264    132       1\n",
            "914   68        144          193    141       1\n",
            "915   57        130          131    115       1\n",
            "916   57        130          236    174       0\n",
            "917   38        138          175    173       1\n",
            "\n",
            "[918 rows x 5 columns]\n"
          ]
        }
      ]
    },
    {
      "cell_type": "code",
      "source": [
        "#Test train split\n",
        "X_train, X_test, y_train, y_test = train_test_split(X, y, test_size=0.25,random_state=0)"
      ],
      "metadata": {
        "id": "P8lmic3TqZGP"
      },
      "execution_count": null,
      "outputs": []
    },
    {
      "cell_type": "code",
      "source": [
        "#Train the model\n",
        "LogReg = LogisticRegression()\n",
        "LogReg.fit(X_train, y_train)"
      ],
      "metadata": {
        "colab": {
          "base_uri": "https://localhost:8080/"
        },
        "id": "Js0-rFnErFhX",
        "outputId": "b1d872b4-b1fb-462b-cad3-04041755b466"
      },
      "execution_count": null,
      "outputs": [
        {
          "output_type": "execute_result",
          "data": {
            "text/plain": [
              "LogisticRegression()"
            ]
          },
          "metadata": {},
          "execution_count": 5
        }
      ]
    },
    {
      "cell_type": "code",
      "source": [
        "#Predictions below (if many are 0, we use our wearable for people with HF-pEF, if many are 1, for HF-rEF)"
      ],
      "metadata": {
        "id": "_5OSJzHirSZA"
      },
      "execution_count": null,
      "outputs": []
    },
    {
      "cell_type": "code",
      "source": [
        "print(X_test.head(10))"
      ],
      "metadata": {
        "colab": {
          "base_uri": "https://localhost:8080/"
        },
        "id": "mnLeqS1ZgIOq",
        "outputId": "4f5e84d0-3835-4172-ee82-e94c1e8547bd"
      },
      "execution_count": null,
      "outputs": [
        {
          "output_type": "stream",
          "name": "stdout",
          "text": [
            "     Age  RestingBP  Cholesterol  MaxHR  SexNum\n",
            "306   55        115            0    155       1\n",
            "711   66        120          302    151       1\n",
            "298   51        110            0     92       1\n",
            "466   55        120            0    125       1\n",
            "253   62        140          271    152       1\n",
            "230   37        130          315    158       1\n",
            "906   55        132          342    166       0\n",
            "14    42        115          211    137       0\n",
            "202   42        160          147    146       1\n",
            "31    56        130          167    114       1\n"
          ]
        }
      ]
    },
    {
      "cell_type": "code",
      "source": [
        "# print the top few validation predictions\n",
        "y_pred = LogReg.predict(X_test)\n",
        "print(y_pred)\n",
        "# print the top few actual prices from validation data\n",
        "print(y_test.head(10).tolist())"
      ],
      "metadata": {
        "execution": {
          "iopub.status.busy": "2022-02-09T11:44:11.973554Z",
          "iopub.execute_input": "2022-02-09T11:44:11.974283Z",
          "iopub.status.idle": "2022-02-09T11:44:11.98826Z",
          "shell.execute_reply.started": "2022-02-09T11:44:11.974241Z",
          "shell.execute_reply": "2022-02-09T11:44:11.987217Z"
        },
        "trusted": true,
        "colab": {
          "base_uri": "https://localhost:8080/"
        },
        "id": "9bi0kmy5xZhS",
        "outputId": "71acc2ff-067b-46a0-ea21-7ea6aa682219"
      },
      "execution_count": null,
      "outputs": [
        {
          "output_type": "stream",
          "name": "stdout",
          "text": [
            "[1 1 1 1 1 0 0 0 1 1 1 1 1 1 0 1 1 1 0 0 1 1 1 1 0 0 0 1 1 1 0 1 0 0 1 0 1\n",
            " 0 1 0 0 1 1 0 1 0 0 1 0 0 1 0 0 1 1 0 0 0 1 0 1 1 1 0 1 1 1 1 1 0 0 1 0 1\n",
            " 1 0 1 0 1 1 0 1 0 0 0 0 1 1 1 0 0 1 0 0 1 0 1 0 0 1 1 1 0 1 1 0 0 0 0 1 1\n",
            " 1 0 1 1 1 1 1 1 0 0 1 1 1 0 0 1 0 0 1 0 1 0 1 1 1 1 1 0 0 1 1 0 1 0 0 1 1\n",
            " 1 1 0 1 0 0 0 0 1 1 1 0 0 0 1 1 1 1 1 0 1 1 1 1 0 1 0 1 0 1 0 0 1 0 1 1 1\n",
            " 1 0 1 1 1 0 0 1 1 1 1 0 1 1 1 1 1 1 1 1 0 0 0 1 0 1 1 0 0 0 1 1 0 1 1 1 0\n",
            " 1 0 1 1 0 1 1 1]\n",
            "[1, 0, 1, 1, 0, 0, 0, 0, 0, 0]\n"
          ]
        }
      ]
    },
    {
      "cell_type": "code",
      "source": [
        "#Evaluate the model with confusion matrix\n",
        "from sklearn import metrics\n",
        "cnf_matrix = metrics.confusion_matrix(y_test, y_pred)\n",
        "cnf_matrix"
      ],
      "metadata": {
        "colab": {
          "base_uri": "https://localhost:8080/"
        },
        "id": "NwRdkrtirx_F",
        "outputId": "4c1acf3d-044b-4699-f073-27e0c0baad2d"
      },
      "execution_count": null,
      "outputs": [
        {
          "output_type": "execute_result",
          "data": {
            "text/plain": [
              "array([[ 67,  25],\n",
              "       [ 27, 111]])"
            ]
          },
          "metadata": {},
          "execution_count": 8
        }
      ]
    },
    {
      "cell_type": "code",
      "source": [
        "#Evaluate the model using precision accuracy and recall\n",
        "print(\"Accuracy:\",metrics.accuracy_score(y_test, y_pred))\n",
        "print(\"Precision:\",metrics.precision_score(y_test, y_pred))\n",
        "print(\"Recall:\",metrics.recall_score(y_test, y_pred))"
      ],
      "metadata": {
        "colab": {
          "base_uri": "https://localhost:8080/"
        },
        "id": "SQ1zT2Pvsr40",
        "outputId": "baaff23a-8e32-4e50-dfed-48e2f9149529"
      },
      "execution_count": null,
      "outputs": [
        {
          "output_type": "stream",
          "name": "stdout",
          "text": [
            "Accuracy: 0.7739130434782608\n",
            "Precision: 0.8161764705882353\n",
            "Recall: 0.8043478260869565\n"
          ]
        }
      ]
    }
  ]
}